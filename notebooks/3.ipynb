{
  "nbformat": 4,
  "nbformat_minor": 0,
  "metadata": {
    "colab": {
      "name": "3.ipynb",
      "provenance": [],
      "authorship_tag": "ABX9TyO/QthS5weKvnE2eHIjfsMc",
      "include_colab_link": true
    },
    "kernelspec": {
      "name": "python3",
      "display_name": "Python 3"
    }
  },
  "cells": [
    {
      "cell_type": "markdown",
      "metadata": {
        "id": "view-in-github",
        "colab_type": "text"
      },
      "source": [
        "<a href=\"https://colab.research.google.com/github/Sugirjan/NumericImageClassifier/blob/master/notebooks/3.ipynb\" target=\"_parent\"><img src=\"https://colab.research.google.com/assets/colab-badge.svg\" alt=\"Open In Colab\"/></a>"
      ]
    },
    {
      "cell_type": "code",
      "metadata": {
        "id": "HJrMzYICddOe",
        "colab_type": "code",
        "colab": {}
      },
      "source": [
        "# baseline cnn model for mnist\n",
        "import numpy as np\n",
        "from numpy import mean\n",
        "from numpy import std\n",
        "from keras.datasets import mnist\n",
        "from keras.utils import to_categorical\n",
        "from keras.models import Sequential\n",
        "from keras.layers import Conv2D\n",
        "from keras.layers import MaxPooling2D\n",
        "from keras.layers import Dense\n",
        "from keras.layers import Flatten\n",
        "from keras.optimizers import SGD\n",
        "from keras.constraints import max_norm\n",
        "from keras.layers import Conv2D, Conv2DTranspose\n",
        "import matplotlib.pyplot as plt"
      ],
      "execution_count": null,
      "outputs": []
    },
    {
      "cell_type": "code",
      "metadata": {
        "id": "4MQ-X4dgfhom",
        "colab_type": "code",
        "colab": {}
      },
      "source": [
        "# load train and test dataset\n",
        "def load_dataset():\n",
        "\t# load dataset\n",
        "\t(trainX, trainY), (testX, testY) = mnist.load_data()\n",
        "\t# reshape dataset which has images with 28 by 28 pixels to have a single channel\n",
        "\ttrainX = trainX.reshape((trainX.shape[0], 28, 28, 1))\n",
        "\ttestX = testX.reshape((testX.shape[0], 28, 28, 1))\n",
        "\t# one hot encode target values\n",
        "\ttrainY = to_categorical(trainY)\n",
        "\ttestY = to_categorical(testY)\n",
        "\treturn trainX, trainY, testX, testY"
      ],
      "execution_count": null,
      "outputs": []
    },
    {
      "cell_type": "code",
      "metadata": {
        "id": "Bcq0K8fyfrMO",
        "colab_type": "code",
        "colab": {}
      },
      "source": [
        "# scale pixels\n",
        "def prep_pixels(train, test):\n",
        "\t# convert from integers to floats\n",
        "\ttrain_norm = train.astype('float32')\n",
        "\ttest_norm = test.astype('float32')\n",
        "\t# normalize to range 0-1\n",
        "\ttrain_norm = train_norm / 255.0\n",
        "\ttest_norm = test_norm / 255.0\n",
        "\t# return normalized images\n",
        "\treturn train_norm, test_norm"
      ],
      "execution_count": null,
      "outputs": []
    },
    {
      "cell_type": "code",
      "metadata": {
        "id": "ocmBw3oegKxr",
        "colab_type": "code",
        "colab": {}
      },
      "source": [
        "# define cnn model\n",
        "def define_model():\n",
        "  # Creating a Sequential Model and adding the layers\n",
        "\tmodel = Sequential()\n",
        "\tmodel.add(Conv2D(32, (3, 3), activation='relu', kernel_initializer='he_uniform', input_shape=(28, 28, 1)))\n",
        "\tmodel.add(MaxPooling2D((2, 2)))\n",
        "\tmodel.add(Conv2D(64, (3, 3), activation='relu', kernel_initializer='he_uniform'))\n",
        "\tmodel.add(Conv2D(64, (3, 3), activation='relu', kernel_initializer='he_uniform'))\n",
        "\tmodel.add(MaxPooling2D((2, 2)))\n",
        "  # Flattening the 2D arrays for fully connected layers\n",
        "\tmodel.add(Flatten())\n",
        "\tmodel.add(Dense(100, activation='relu', kernel_initializer='he_uniform'))\n",
        "\tmodel.add(Dense(10, activation='softmax'))\n",
        "\t# compile model\n",
        "\tmodel.compile(optimizer=SGD(lr=0.01, momentum=0.9), loss='categorical_crossentropy', metrics=['accuracy'])\n",
        "\treturn model"
      ],
      "execution_count": null,
      "outputs": []
    },
    {
      "cell_type": "code",
      "metadata": {
        "id": "LA5qKHeXg_VY",
        "colab_type": "code",
        "colab": {}
      },
      "source": [
        "# run the test harness for evaluating a model\n",
        "def run_test_harness():\n",
        "  # load dataset\n",
        "  trainX, trainY, testX, testY = load_dataset()\n",
        "  # prepare pixel data\n",
        "  trainX, testX = prep_pixels(trainX, testX)\n",
        "  # define model\n",
        "  model = define_model()\n",
        "  # fit model\n",
        "  model.fit(trainX, trainY, epochs=10, batch_size=32, verbose=0)\n",
        "  _, acc = model.evaluate(testX, testY, verbose=0)\n",
        "  print('> %.3f' % (acc * 100.0))\n"
      ],
      "execution_count": null,
      "outputs": []
    },
    {
      "cell_type": "code",
      "metadata": {
        "id": "Oo44CwKWhH67",
        "colab_type": "code",
        "colab": {
          "base_uri": "https://localhost:8080/",
          "height": 33
        },
        "outputId": "a488e5f5-045f-4767-bc03-6c07a6ab0222"
      },
      "source": [
        "# entry point, run the test harness\n",
        "run_test_harness()"
      ],
      "execution_count": null,
      "outputs": [
        {
          "output_type": "stream",
          "text": [
            "> 99.020\n"
          ],
          "name": "stdout"
        }
      ]
    },
    {
      "cell_type": "code",
      "metadata": {
        "id": "FBzBY2ok2lRh",
        "colab_type": "code",
        "colab": {}
      },
      "source": [
        "def build_encoder() : \n",
        "  auto_encoder = Sequential()\n",
        "  auto_encoder.add(Conv2D(64, kernel_size=(3, 3), kernel_constraint=max_norm(max_norm_value), activation='relu', kernel_initializer='he_uniform', input_shape=(28,28,1)))\n",
        "  auto_encoder.add(Conv2D(32, kernel_size=(3, 3), kernel_constraint=max_norm(max_norm_value), activation='relu', kernel_initializer='he_uniform'))\n",
        "  auto_encoder.add(Conv2DTranspose(32, kernel_size=(3,3), kernel_constraint=max_norm(max_norm_value), activation='relu', kernel_initializer='he_uniform'))\n",
        "  auto_encoder.add(Conv2DTranspose(64, kernel_size=(3,3), kernel_constraint=max_norm(max_norm_value), activation='relu', kernel_initializer='he_uniform'))\n",
        "  auto_encoder.add(Conv2D(1, kernel_size=(3, 3), kernel_constraint=max_norm(max_norm_value), activation='sigmoid', padding='same'))\n",
        "  auto_encoder.compile(optimizer='adadelta', loss='binary_crossentropy')\n",
        "  return auto_encoder;"
      ],
      "execution_count": null,
      "outputs": []
    },
    {
      "cell_type": "code",
      "metadata": {
        "id": "J5HTDoCW8nRr",
        "colab_type": "code",
        "colab": {
          "base_uri": "https://localhost:8080/",
          "height": 326
        },
        "outputId": "ad00a7ea-c83f-4dc7-f95b-93025c978148"
      },
      "source": [
        "#  load data\n",
        "trainX, trainY, testX, testY = load_dataset()\n",
        "trainX, testX = prep_pixels(trainX, testX)\n",
        "\n",
        "  # Add noise for data\n",
        "noise_factor = 0.5\n",
        "trainX_noisy = trainX + noise_factor * np.random.normal(loc = 0.0, scale=1.0, size=trainX.shape)\n",
        "testX_noisy = testX + noise_factor * np.random.normal(loc = 0.0, scale=1.0, size=testX.shape)\n",
        "trainX_noisy = np.clip(trainX_noisy, 0. , 1.)\n",
        "testX_noisy = np.clip(testX_noisy, 0. , 1.)\n",
        "\n",
        "max_norm_value = 2.0\n",
        "\n",
        "auto_encoder = build_encoder()\n",
        "auto_encoder.fit(trainX_noisy, trainX,epochs=4,batch_size=150)\n",
        "\n",
        "trainX_denoised =  auto_encoder.predict(trainX_noisy)\n",
        "testX_denoised =  auto_encoder.predict(testX_noisy) \n",
        "\n",
        "  # define model\n",
        "model = define_model()\n",
        "  # fit model\n",
        "model.fit(trainX_denoised, trainY, epochs=4, batch_size=32, validation_data=(testX_denoised, testY))\n",
        "_, acc = model.evaluate(testX_denoised, testY)\n",
        "print('> %.3f' % (acc * 100.0))"
      ],
      "execution_count": null,
      "outputs": [
        {
          "output_type": "stream",
          "text": [
            "Epoch 1/4\n",
            "60000/60000 [==============================] - 487s 8ms/step - loss: 0.1419\n",
            "Epoch 2/4\n",
            "60000/60000 [==============================] - 489s 8ms/step - loss: 0.1065\n",
            "Epoch 3/4\n",
            "60000/60000 [==============================] - 487s 8ms/step - loss: 0.1029\n",
            "Epoch 4/4\n",
            "60000/60000 [==============================] - 488s 8ms/step - loss: 0.1007\n",
            "Train on 60000 samples, validate on 10000 samples\n",
            "Epoch 1/4\n",
            "60000/60000 [==============================] - 83s 1ms/step - loss: 0.1976 - accuracy: 0.9367 - val_loss: 0.1119 - val_accuracy: 0.9649\n",
            "Epoch 2/4\n",
            "60000/60000 [==============================] - 83s 1ms/step - loss: 0.1017 - accuracy: 0.9671 - val_loss: 0.0926 - val_accuracy: 0.9716\n",
            "Epoch 3/4\n",
            "60000/60000 [==============================] - 83s 1ms/step - loss: 0.0811 - accuracy: 0.9738 - val_loss: 0.0946 - val_accuracy: 0.9695\n",
            "Epoch 4/4\n",
            "60000/60000 [==============================] - 88s 1ms/step - loss: 0.0656 - accuracy: 0.9786 - val_loss: 0.0899 - val_accuracy: 0.9722\n",
            "10000/10000 [==============================] - 4s 405us/step\n",
            "> 97.220\n"
          ],
          "name": "stdout"
        }
      ]
    },
    {
      "cell_type": "code",
      "metadata": {
        "id": "1if9_ji2T7EG",
        "colab_type": "code",
        "colab": {
          "base_uri": "https://localhost:8080/",
          "height": 901
        },
        "outputId": "7849a28d-99b6-4c5c-d7fd-12b3f0b157de"
      },
      "source": [
        "\n",
        "# print the denoised images\n",
        "for i in range(0, number_of_visualizations):\n",
        "  noisy_image = testX_noisy[i][:, :, 0]\n",
        "  pure_image  = testX[i][:, :, 0]\n",
        "  denoised_image = denoised_images[i][:, :, 0]\n",
        "  input_class = testY[i]\n",
        "  fig, axes = plt.subplots(1, 3)\n",
        "  fig.set_size_inches(8, 3.5)\n",
        "  axes[0].imshow(noisy_image)\n",
        "  axes[0].set_title('Noisy image')\n",
        "  axes[1].imshow(pure_image)\n",
        "  axes[1].set_title('Pure image')\n",
        "  axes[2].imshow(denoised_image)\n",
        "  axes[2].set_title('Denoised image')\n",
        "  fig.suptitle(f'MNIST target = {input_class}')\n",
        "  plt.show()\n",
        "\n",
        "trainX_denoised =  auto_encoder.predict(trainX_noisy)\n",
        "testX_denoised =  auto_encoder.predict(testX_noisy) \n",
        "\n",
        "  # define model\n",
        "model = define_model()\n",
        "  # fit model\n",
        "model.fit(trainX_denoised, trainY, epochs=10, batch_size=32, verbose=1, validation_data=(testX_denoised, testY))\n",
        "_, acc = model.evaluate(testX_denoised, testY, verbose=0)\n",
        "print('> %.3f' % (acc * 100.0))"
      ],
      "execution_count": null,
      "outputs": [
        {
          "output_type": "display_data",
          "data": {
            "image/png": "[encoded data removed]",
            "text/plain": [
              "<Figure size 576x252 with 3 Axes>"
            ]
          },
          "metadata": {
            "tags": [],
            "needs_background": "light"
          }
        },
        {
          "output_type": "display_data",
          "data": {
            "image/png": "[encoded data removed]",
            "text/plain": [
              "<Figure size 576x252 with 3 Axes>"
            ]
          },
          "metadata": {
            "tags": [],
            "needs_background": "light"
          }
        },
        {
          "output_type": "display_data",
          "data": {
            "image/png": "[encoded data removed]",
            "text/plain": [
              "<Figure size 576x252 with 3 Axes>"
            ]
          },
          "metadata": {
            "tags": [],
            "needs_background": "light"
          }
        },
        {
          "output_type": "display_data",
          "data": {
            "image/png": "[encoded data removed]",
            "text/plain": [
              "<Figure size 576x252 with 3 Axes>"
            ]
          },
          "metadata": {
            "tags": [],
            "needs_background": "light"
          }
        },
        {
          "output_type": "stream",
          "text": [
            "> 99.050\n"
          ],
          "name": "stdout"
        }
      ]
    },
    {
      "cell_type": "code",
      "metadata": {
        "id": "ofJ6LhyJaDbJ",
        "colab_type": "code",
        "colab": {
          "base_uri": "https://localhost:8080/",
          "height": 228
        },
        "outputId": "447c540b-2d17-422b-f4ba-fcdff7ca3c8b"
      },
      "source": [
        "def predict_using_model(model, X_test, y_test):\n",
        "    predicted_classes = model.predict_classes(X_test)\n",
        "    \n",
        "    # get the correct and incorrect predictions seperated so that it can be printed later\n",
        "    correct_indices = np.nonzero(predicted_classes == y_test)[0]\n",
        "    incorrect_indices = np.nonzero(predicted_classes != y_test)[0]\n",
        "    \n",
        "    return predicted_classes, correct_indices, incorrect_indices\n",
        "validation_data=(X_test, Y_test)"
      ],
      "execution_count": null,
      "outputs": [
        {
          "output_type": "execute_result",
          "data": {
            "text/plain": [
              "array([[1.15454472e-10, 4.18281021e-10, 4.77752282e-09, ...,\n",
              "        1.00000000e+00, 2.08295645e-10, 3.45926523e-08],\n",
              "       [1.58961022e-09, 2.48642738e-11, 1.00000000e+00, ...,\n",
              "        4.83631418e-15, 9.09683023e-11, 2.78022031e-14],\n",
              "       [1.11268376e-10, 9.99991298e-01, 1.29244180e-08, ...,\n",
              "        3.49704897e-06, 1.05550431e-08, 3.52492524e-09],\n",
              "       ...,\n",
              "       [1.59122201e-19, 1.10790413e-12, 7.17963231e-16, ...,\n",
              "        1.55049463e-11, 1.43346454e-11, 2.75115217e-12],\n",
              "       [3.53018259e-09, 7.31379001e-14, 1.57505184e-15, ...,\n",
              "        2.60600206e-14, 7.61544561e-06, 2.14162116e-13],\n",
              "       [5.17502534e-12, 8.93653207e-11, 5.86465668e-11, ...,\n",
              "        1.72375599e-16, 8.16746323e-12, 1.83871350e-15]], dtype=float32)"
            ]
          },
          "metadata": {
            "tags": []
          },
          "execution_count": 16
        }
      ]
    },
    {
      "cell_type": "code",
      "metadata": {
        "id": "sDUa1W9OJzu_",
        "colab_type": "code",
        "colab": {
          "base_uri": "https://localhost:8080/",
          "height": 158
        },
        "outputId": "fd8b9f03-ca1d-4ab4-f70b-6b9ac1476a83"
      },
      "source": [
        "testX_denoised =  auto_encoder.predict(testX_noisy) "
      ],
      "execution_count": null,
      "outputs": [
        {
          "output_type": "error",
          "ename": "NameError",
          "evalue": "ignored",
          "traceback": [
            "\u001b[0;31m---------------------------------------------------------------------------\u001b[0m",
            "\u001b[0;31mNameError\u001b[0m                                 Traceback (most recent call last)",
            "\u001b[0;32m<ipython-input-1-a7114e1041f1>\u001b[0m in \u001b[0;36m<module>\u001b[0;34m()\u001b[0m\n\u001b[0;32m----> 1\u001b[0;31m \u001b[0mtestX_denoised\u001b[0m \u001b[0;34m=\u001b[0m  \u001b[0mauto_encoder\u001b[0m\u001b[0;34m.\u001b[0m\u001b[0mpredict\u001b[0m\u001b[0;34m(\u001b[0m\u001b[0mtestX_noisy\u001b[0m\u001b[0;34m)\u001b[0m\u001b[0;34m\u001b[0m\u001b[0;34m\u001b[0m\u001b[0m\n\u001b[0m",
            "\u001b[0;31mNameError\u001b[0m: name 'auto_encoder' is not defined"
          ]
        }
      ]
    },
    {
      "cell_type": "code",
      "metadata": {
        "id": "0wL5puKj8Cnp",
        "colab_type": "code",
        "colab": {}
      },
      "source": [
        "import matplotlib.pyplot as plt\n",
        "\n",
        "def print_images(X_train, y_train):\n",
        "    for i in range(9):\n",
        "        plt.subplot(3,3,i+1)\n",
        "        plt.imshow(X_train[i].reshape(28,28), interpolation='none')\n",
        "        plt.title(\"Class {}\".format(y_train[i]))\n",
        "print_images(trainX, trainY)"
      ],
      "execution_count": null,
      "outputs": []
    },
    {
      "cell_type": "code",
      "metadata": {
        "id": "vUtAPFBe8I3n",
        "colab_type": "code",
        "colab": {}
      },
      "source": [
        "print_images(trainX_denoised, trainY)"
      ],
      "execution_count": null,
      "outputs": []
    },
    {
      "cell_type": "code",
      "metadata": {
        "id": "qz-oc70EXzFa",
        "colab_type": "code",
        "colab": {}
      },
      "source": [
        "run_test_harness_without_noise()"
      ],
      "execution_count": null,
      "outputs": []
    }
  ]
}